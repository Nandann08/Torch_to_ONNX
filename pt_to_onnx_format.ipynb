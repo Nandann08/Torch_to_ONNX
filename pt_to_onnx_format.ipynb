{
 "cells": [
  {
   "cell_type": "markdown",
   "id": "ce1ff8d9-9eab-47e3-9db9-617d0e26a1f7",
   "metadata": {},
   "source": [
    "#### Cloning the onnxruntime git repo"
   ]
  },
  {
   "cell_type": "code",
   "execution_count": 11,
   "id": "6b9d88e4-7375-43a4-a546-709f07ebe90a",
   "metadata": {},
   "outputs": [],
   "source": [
    "!git clone https://github.com/microsoft/onnxruntime.git"
   ]
  },
  {
   "cell_type": "code",
   "execution_count": 14,
   "id": "7c8aba27-896c-40b3-ab98-fbdcfbaea5bb",
   "metadata": {},
   "outputs": [
    {
     "name": "stdout",
     "output_type": "stream",
     "text": [
      "C:\\Users\\Nandan\\OneDrive\\Documents\\kilmb\n"
     ]
    }
   ],
   "source": [
    "cd .."
   ]
  },
  {
   "cell_type": "code",
   "execution_count": 1,
   "id": "2b5b5ba2-5c9c-4a7e-b6de-ab4f9024fe7b",
   "metadata": {},
   "outputs": [],
   "source": [
    "import sys\n",
    "if sys.platform in [\"darwin\", \"win32\"]:  # Mac or Windows\n",
    "    !{sys.executable} -m pip install torch -q\n",
    "else:\n",
    "    !{sys.executable} -m pip install install torch --index-url https://download.pytorch.org/whl/cpu -q\n",
    "\n",
    "!{sys.executable} -m pip install onnxruntime transformers==4.18 onnx psutil pandas py-cpuinfo py3nvml netron coloredlogs --no-warn-script-location -q"
   ]
  },
  {
   "cell_type": "code",
   "execution_count": 1,
   "id": "d306af9d-d6c1-4e98-a6a9-2cdfb8567f00",
   "metadata": {},
   "outputs": [],
   "source": [
    "import os\n",
    "import sys\n",
    "\n",
    "if sys.platform in [\"win32\"]:\n",
    "    os.environ[\"HF_HUB_DISABLE_SYMLINKS_WARNING\"] = \"1\"\n",
    "\n",
    "# Create a cache directory to store pretrained model.\n",
    "cache_dir = os.path.join(\".\", \"cache_models\")\n",
    "if not os.path.exists(cache_dir):\n",
    "    os.makedirs(cache_dir)"
   ]
  },
  {
   "cell_type": "markdown",
   "id": "b5e6b427-6f9f-4769-b0b3-b8fde559a390",
   "metadata": {},
   "source": [
    "### Loading the GPT2 model from Huggingface"
   ]
  },
  {
   "cell_type": "code",
   "execution_count": 2,
   "id": "1b830b62-105a-4e59-910d-0c9c829f73c7",
   "metadata": {},
   "outputs": [
    {
     "name": "stdout",
     "output_type": "stream",
     "text": [
      "GPT2Config {\n",
      "  \"_name_or_path\": \"gpt2\",\n",
      "  \"activation_function\": \"gelu_new\",\n",
      "  \"architectures\": [\n",
      "    \"GPT2LMHeadModel\"\n",
      "  ],\n",
      "  \"attn_pdrop\": 0.1,\n",
      "  \"bos_token_id\": 50256,\n",
      "  \"embd_pdrop\": 0.1,\n",
      "  \"eos_token_id\": 50256,\n",
      "  \"initializer_range\": 0.02,\n",
      "  \"layer_norm_epsilon\": 1e-05,\n",
      "  \"model_type\": \"gpt2\",\n",
      "  \"n_ctx\": 1024,\n",
      "  \"n_embd\": 768,\n",
      "  \"n_head\": 12,\n",
      "  \"n_inner\": null,\n",
      "  \"n_layer\": 12,\n",
      "  \"n_positions\": 1024,\n",
      "  \"reorder_and_upcast_attn\": false,\n",
      "  \"resid_pdrop\": 0.1,\n",
      "  \"scale_attn_by_inverse_layer_idx\": false,\n",
      "  \"scale_attn_weights\": true,\n",
      "  \"summary_activation\": null,\n",
      "  \"summary_first_dropout\": 0.1,\n",
      "  \"summary_proj_to_labels\": true,\n",
      "  \"summary_type\": \"cls_index\",\n",
      "  \"summary_use_proj\": true,\n",
      "  \"task_specific_params\": {\n",
      "    \"text-generation\": {\n",
      "      \"do_sample\": true,\n",
      "      \"max_length\": 50\n",
      "    }\n",
      "  },\n",
      "  \"transformers_version\": \"4.18.0\",\n",
      "  \"use_cache\": true,\n",
      "  \"vocab_size\": 50257\n",
      "}\n",
      "\n"
     ]
    }
   ],
   "source": [
    "from onnxruntime.transformers.models.gpt2.gpt2_helper import Gpt2Helper, MyGPT2LMHeadModel\n",
    "from transformers import AutoConfig\n",
    "import torch\n",
    "\n",
    "model_name_or_path = \"gpt2\"\n",
    "config = AutoConfig.from_pretrained(model_name_or_path, cache_dir=cache_dir)\n",
    "model = MyGPT2LMHeadModel.from_pretrained(model_name_or_path, config=config, cache_dir=cache_dir)\n",
    "device = torch.device(\"cpu\")\n",
    "model.eval().to(device)\n",
    "\n",
    "print(model.config)\n",
    "\n",
    "num_attention_heads = model.config.n_head\n",
    "hidden_size = model.config.n_embd\n",
    "num_layer = model.config.n_layer"
   ]
  },
  {
   "cell_type": "markdown",
   "id": "b38c6939-3646-4797-b567-aa882cf92218",
   "metadata": {},
   "source": [
    "### Converting the model to onnx format"
   ]
  },
  {
   "cell_type": "code",
   "execution_count": null,
   "id": "4f2193b3-ee22-4354-8596-0f42bdb238a6",
   "metadata": {},
   "outputs": [],
   "source": [
    "!python -m onnxruntime.transformers.models.gpt2.convert_to_onnx -m gpt2 --output gpt_2.onnx -o -p fp32"
   ]
  },
  {
   "cell_type": "markdown",
   "id": "e3adb92a-a9fe-4ab5-afbe-38e816f29e6d",
   "metadata": {},
   "source": [
    "### Comparing the torch and onnx runtime outputs"
   ]
  },
  {
   "cell_type": "code",
   "execution_count": 105,
   "id": "24402240-a537-4d70-b718-797c690fe9df",
   "metadata": {},
   "outputs": [],
   "source": [
    "from transformers import AutoTokenizer\n",
    "\n",
    "EXAMPLE_Text = [\"best hotel in bay area\", \"here is an example of gpt2 model\"]\n",
    "\n",
    "def get_tokenizer(model_name_or_path, cache_dir):\n",
    "    tokenizer = AutoTokenizer.from_pretrained(model_name_or_path, cache_dir=cache_dir)\n",
    "    tokenizer.padding_side = \"left\"\n",
    "    tokenizer.pad_token = tokenizer.eos_token\n",
    "    return tokenizer\n",
    "\n",
    "def get_example_inputs(prompt_text=EXAMPLE_Text):\n",
    "    tokenizer = get_tokenizer(model_name_or_path, cache_dir)\n",
    "    encodings_dict = tokenizer.batch_encode_plus(prompt_text, padding=True)\n",
    "\n",
    "    input_ids = torch.tensor(encodings_dict[\"input_ids\"], dtype=torch.int32)\n",
    "    attention_mask = torch.tensor(encodings_dict[\"attention_mask\"], dtype=torch.int32)\n",
    "    position_ids = attention_mask.long().cumsum(-1) - 1\n",
    "    position_ids.masked_fill_(position_ids < 0, 0)\n",
    "    position_ids = position_ids.to(torch.int32)\n",
    "\n",
    "    # Empty Past State for generating first word\n",
    "    empty_past = []\n",
    "    batch_size = input_ids.size(0)\n",
    "    sequence_length = input_ids.size(1)\n",
    "    past_shape = [2, batch_size, num_attention_heads, 0, hidden_size // num_attention_heads]\n",
    "    for i in range(num_layer):\n",
    "        empty_past.append(torch.empty(past_shape).type(torch.float32).to(device))\n",
    "\n",
    "    return input_ids, attention_mask, position_ids, empty_past"
   ]
  },
  {
   "cell_type": "code",
   "execution_count": 106,
   "id": "8fd53282-8d32-4c4f-ae4a-effeaa322a69",
   "metadata": {},
   "outputs": [],
   "source": [
    "onnx_model_path = \"gpt_2.onnx\""
   ]
  },
  {
   "cell_type": "code",
   "execution_count": 31,
   "id": "97ffe2cb-8278-43cb-b0e6-099cbba865ef",
   "metadata": {},
   "outputs": [],
   "source": [
    "!{sys.executable} -m onnxruntime.transformers.models.gpt2.convert_to_onnx -m $model_name_or_path --output $onnx_model_path -o -p fp32 -t 10 >export_output.txt 2>&1"
   ]
  },
  {
   "cell_type": "code",
   "execution_count": 107,
   "id": "dd13a45f-951c-49ac-a65d-914efb7788f3",
   "metadata": {},
   "outputs": [
    {
     "name": "stdout",
     "output_type": "stream",
     "text": [
      "Optimized operators:{'EmbedLayerNormalization': 1, 'Attention': 12, 'MultiHeadAttention': 0, 'Gelu': 0, 'FastGelu': 12, 'BiasGelu': 0, 'GemmFastGelu': 0, 'LayerNormalization': 0, 'SkipLayerNormalization': 24, 'QOrderedAttention': 0, 'QOrderedGelu': 0, 'QOrderedLayerNormalization': 0, 'QOrderedMatMul': 0}\n",
      "\n"
     ]
    }
   ],
   "source": [
    "file = open(\"export_output.txt\", \"r\")\n",
    "for line in file.readlines():\n",
    "    if \"Optimized operators\" in line:\n",
    "        print(line)"
   ]
  },
  {
   "cell_type": "markdown",
   "id": "0e5e523e-4976-4b87-b4bb-8b852aa4cb58",
   "metadata": {},
   "source": [
    "###  Torch output"
   ]
  },
  {
   "cell_type": "code",
   "execution_count": 108,
   "id": "32d1432b-f3fd-441b-9851-e9330196a6c5",
   "metadata": {},
   "outputs": [
    {
     "name": "stdout",
     "output_type": "stream",
     "text": [
      "input_ids tensor([[50256, 50256, 50256, 50256, 13466,  7541,   287, 15489,  1989],\n",
      "        [ 1456,   318,   281,  1672,   286,   308,   457,    17,  2746]],\n",
      "       dtype=torch.int32)\n",
      "attention_mask tensor([[0, 0, 0, 0, 1, 1, 1, 1, 1],\n",
      "        [1, 1, 1, 1, 1, 1, 1, 1, 1]], dtype=torch.int32)\n",
      "position_ids tensor([[0, 0, 0, 0, 0, 1, 2, 3, 4],\n",
      "        [0, 1, 2, 3, 4, 5, 6, 7, 8]], dtype=torch.int32)\n",
      "[tensor([], size=(2, 2, 12, 0, 64)), tensor([], size=(2, 2, 12, 0, 64)), tensor([], size=(2, 2, 12, 0, 64)), tensor([], size=(2, 2, 12, 0, 64)), tensor([], size=(2, 2, 12, 0, 64)), tensor([], size=(2, 2, 12, 0, 64)), tensor([], size=(2, 2, 12, 0, 64)), tensor([], size=(2, 2, 12, 0, 64)), tensor([], size=(2, 2, 12, 0, 64)), tensor([], size=(2, 2, 12, 0, 64)), tensor([], size=(2, 2, 12, 0, 64)), tensor([], size=(2, 2, 12, 0, 64))]\n"
     ]
    }
   ],
   "source": [
    "from transformers import GPT2LMHeadModel\n",
    "\n",
    "torch_model = GPT2LMHeadModel.from_pretrained(model_name_or_path, config=config, cache_dir=cache_dir)\n",
    "device = torch.device(\"cpu\")\n",
    "torch_model.eval().to(device)\n",
    "\n",
    "input_ids, attention_mask, position_ids, empty_past = get_example_inputs()\n",
    "print(\"input_ids\", input_ids)\n",
    "print(\"attention_mask\", attention_mask)\n",
    "print(\"position_ids\", position_ids)"
   ]
  },
  {
   "cell_type": "code",
   "execution_count": 109,
   "id": "5884a784-ab0a-4f53-822c-18afcde4f859",
   "metadata": {},
   "outputs": [],
   "source": [
    "with torch.no_grad():\n",
    "    torch_output = torch_model(\n",
    "        input_ids, past_key_values=empty_past, attention_mask=attention_mask, position_ids=position_ids\n",
    "    )"
   ]
  },
  {
   "cell_type": "markdown",
   "id": "a0f7b0db-9f1f-48f7-8523-75012298c258",
   "metadata": {},
   "source": [
    "### Onnx output"
   ]
  },
  {
   "cell_type": "code",
   "execution_count": 110,
   "id": "86917205-8437-441c-bc96-f1290d21d614",
   "metadata": {},
   "outputs": [
    {
     "data": {
      "text/plain": [
       "{'input_ids': array([[50256, 50256, 50256, 50256, 13466,  7541,   287, 15489,  1989],\n",
       "        [ 1456,   318,   281,  1672,   286,   308,   457,    17,  2746]]),\n",
       " 'attention_mask': array([[0, 0, 0, 0, 1, 1, 1, 1, 1],\n",
       "        [1, 1, 1, 1, 1, 1, 1, 1, 1]]),\n",
       " 'position_ids': array([[0, 0, 0, 0, 0, 1, 2, 3, 4],\n",
       "        [0, 1, 2, 3, 4, 5, 6, 7, 8]])}"
      ]
     },
     "execution_count": 110,
     "metadata": {},
     "output_type": "execute_result"
    }
   ],
   "source": [
    "import onnxruntime\n",
    "import numpy\n",
    "\n",
    "input_ids, attention_mask, position_ids, empty_past = get_example_inputs()\n",
    "\n",
    "session = onnxruntime.InferenceSession(onnx_model_path, providers=[\"CPUExecutionProvider\"])\n",
    "ort_inputs = {\n",
    "    \"input_ids\": numpy.ascontiguousarray(input_ids.cpu().numpy()),\n",
    "    \"attention_mask\": numpy.ascontiguousarray(attention_mask.cpu().numpy()),\n",
    "    \"position_ids\": numpy.ascontiguousarray(position_ids.cpu().numpy()),\n",
    "}\n",
    "ort_inputs"
   ]
  },
  {
   "cell_type": "code",
   "execution_count": 111,
   "id": "eb1ae64d-f039-43e2-b5ba-fe1c9e0d5767",
   "metadata": {},
   "outputs": [],
   "source": [
    "for i, past_i in enumerate(empty_past):\n",
    "    ort_inputs[f\"past_{i}\"] = numpy.ascontiguousarray(past_i.cpu().numpy())\n",
    "ort_outputs = session.run(None, ort_inputs)"
   ]
  },
  {
   "cell_type": "markdown",
   "id": "9abbff2c-921b-4258-a017-c57e0fd75659",
   "metadata": {},
   "source": [
    "#### Output Comparison"
   ]
  },
  {
   "cell_type": "code",
   "execution_count": 112,
   "id": "fae63c74-d91a-4bba-a67f-23dcd442232d",
   "metadata": {},
   "outputs": [
    {
     "name": "stdout",
     "output_type": "stream",
     "text": [
      "max logits diff (ignored padding) tensor(0.0002)\n"
     ]
    }
   ],
   "source": [
    "logits_masked_diff = (torch_output[0] - ort_outputs[0]) * attention_mask.unsqueeze(2)\n",
    "max_logits_diff = logits_masked_diff.abs().max()\n",
    "print(\"max logits diff (ignored padding)\", max_logits_diff)"
   ]
  },
  {
   "cell_type": "markdown",
   "id": "9f79e625-12fe-4a34-8eb5-a389d121be2e",
   "metadata": {},
   "source": [
    "### Inference with torch and onnx runtime (text generation)"
   ]
  },
  {
   "cell_type": "code",
   "execution_count": 113,
   "id": "51f58827-59f7-4b6f-a5ac-e0548b1fa320",
   "metadata": {},
   "outputs": [],
   "source": [
    "from typing import List, Dict\n",
    "from onnxruntime import InferenceSession\n",
    "\n",
    "from onnxruntime.transformers.io_binding_helper import TypeHelper\n",
    "from onnxruntime.transformers.io_binding_helper import IOBindingHelper\n",
    "\n",
    "\n",
    "def inference_with_io_binding(session, config, input_ids, position_ids, attention_mask, past):\n",
    "    output_shapes = Gpt2Helper.get_output_shapes(\n",
    "        batch_size=input_ids.size(0),\n",
    "        past_sequence_length=past[0].size(3),\n",
    "        sequence_length=input_ids.size(1),\n",
    "        config=config,\n",
    "    )\n",
    "    output_buffers = Gpt2Helper.get_output_buffers(output_shapes, device)\n",
    "\n",
    "    io_binding = IOBindingHelper.prepare_io_binding(\n",
    "        session, input_ids, position_ids, attention_mask, past, output_buffers, output_shapes\n",
    "    )\n",
    "    session.run_with_iobinding(io_binding)\n",
    "\n",
    "    outputs = Gpt2Helper.get_outputs_from_io_binding_buffer(session, output_buffers, output_shapes, return_numpy=False)\n",
    "    return outputs"
   ]
  },
  {
   "cell_type": "code",
   "execution_count": 114,
   "id": "4b5f2644-6d20-46ea-8c4a-f7a15df21163",
   "metadata": {},
   "outputs": [],
   "source": [
    "def test_generation(tokenizer, input_text, ort_session=None, num_tokens_to_produce=30):\n",
    "    assert len(input_text) == 1  # This function requires batch_size==1\n",
    "    use_onnxruntime = ort_session is not None\n",
    "    print(\"Text generation using\", \"OnnxRuntime\" if use_onnxruntime else \"PyTorch\", \"...\")\n",
    "    eos_token_id = tokenizer.eos_token_id\n",
    "\n",
    "    input_ids, attention_mask, position_ids, past = get_example_inputs(input_text)\n",
    "    batch_size = input_ids.size(0)\n",
    "\n",
    "    has_eos = torch.zeros(batch_size, dtype=torch.bool)\n",
    "\n",
    "    all_token_ids = input_ids.clone()\n",
    "\n",
    "    for step in range(num_tokens_to_produce):\n",
    "        if ort_session is not None:\n",
    "            outputs = inference_with_io_binding(ort_session, config, input_ids, position_ids, attention_mask, past)\n",
    "        else:\n",
    "            outputs = torch_model(\n",
    "                input_ids, attention_mask=attention_mask, position_ids=position_ids, past_key_values=past\n",
    "            )\n",
    "\n",
    "        next_token_logits = outputs[0][:, -1, :]\n",
    "        # Greedy approach is used here. You can easily extend it to use beam search and sampling to pick next tokens.\n",
    "        next_tokens = torch.argmax(next_token_logits)\n",
    "\n",
    "        has_eos = has_eos | (next_tokens == eos_token_id)\n",
    "        tokens_to_add = next_tokens.masked_fill(has_eos, eos_token_id)\n",
    "        all_token_ids = torch.cat([all_token_ids, tokens_to_add.unsqueeze(-1)], dim=-1)\n",
    "\n",
    "        # Update input_ids, attention_mask, position_ids and past\n",
    "        input_ids = tokens_to_add.clone().detach().reshape([batch_size, 1]).to(device)\n",
    "        position_ids = (position_ids[:, -1] + 1).reshape(batch_size, 1)\n",
    "        attention_mask = torch.cat([attention_mask, torch.ones([batch_size, 1]).type_as(attention_mask)], 1).to(device)\n",
    "\n",
    "        past = []\n",
    "        if not use_onnxruntime:\n",
    "            past = list(outputs[1])  # past in torch output is tuple\n",
    "        else:\n",
    "            for i in range(num_layer):\n",
    "                past_i = (\n",
    "                    torch.from_numpy(outputs[i + 1])\n",
    "                    if isinstance(outputs[i + 1], numpy.ndarray)\n",
    "                    else outputs[i + 1].clone().detach()\n",
    "                )\n",
    "                past.append(past_i.to(device))\n",
    "\n",
    "        if torch.all(has_eos):\n",
    "            break\n",
    "\n",
    "    for i, output in enumerate(all_token_ids):\n",
    "        print(\"------------\")\n",
    "        print(tokenizer.decode(output, skip_special_tokens=True))"
   ]
  },
  {
   "cell_type": "code",
   "execution_count": 115,
   "id": "6fc23604-9d53-457d-bc50-b0333196fba5",
   "metadata": {},
   "outputs": [],
   "source": [
    "EXAMPLE_Text = [\"'I enjoy walking with my cute dog'\"]"
   ]
  },
  {
   "cell_type": "code",
   "execution_count": 170,
   "id": "b25129ef-4acb-4e31-8398-ea60dead5703",
   "metadata": {},
   "outputs": [],
   "source": [
    "tokenizer = get_tokenizer(model_name_or_path, cache_dir)\n",
    "input_text = EXAMPLE_Text"
   ]
  },
  {
   "cell_type": "code",
   "execution_count": 178,
   "id": "a89028af-8b06-4f1f-a9f6-434682511400",
   "metadata": {},
   "outputs": [
    {
     "name": "stdout",
     "output_type": "stream",
     "text": [
      "Text generation using PyTorch ...\n",
      "------------\n",
      "'I enjoy walking with my cute dog'\n",
      "\n",
      "The dog, named \"Bunny\", was born with a rare genetic condition called Down syndrome.\n",
      "\n",
      "The condition causes the dog to have\n"
     ]
    }
   ],
   "source": [
    "start_time = time.time()\n",
    "\n",
    "test_generation(tokenizer, input_text)\n",
    "\n",
    "end_time = time.time()\n",
    "\n",
    "elapsed_time_torch = end_time - start_time"
   ]
  },
  {
   "cell_type": "code",
   "execution_count": 177,
   "id": "e20b9ae3-e137-4beb-b9f1-3a1cf668a7ea",
   "metadata": {},
   "outputs": [
    {
     "name": "stdout",
     "output_type": "stream",
     "text": [
      "Text generation using OnnxRuntime ...\n",
      "------------\n",
      "'I enjoy walking with my cute dog'\n",
      "\n",
      "The dog, named \"Bunny\", was born with a rare genetic condition called Down syndrome.\n",
      "\n",
      "The condition causes the dog to have\n"
     ]
    }
   ],
   "source": [
    "import time\n",
    "\n",
    "start_time = time.time()\n",
    "\n",
    "test_generation(tokenizer, input_text, ort_session=session)\n",
    "\n",
    "end_time = time.time()\n",
    "\n",
    "elapsed_time_onnx = end_time - start_time"
   ]
  },
  {
   "cell_type": "code",
   "execution_count": null,
   "id": "0c1d4a35-4912-4219-b543-b2e7475605d0",
   "metadata": {},
   "outputs": [],
   "source": []
  },
  {
   "cell_type": "code",
   "execution_count": 179,
   "id": "ce7deeef-3d12-454e-8400-d55b03e3041a",
   "metadata": {},
   "outputs": [
    {
     "name": "stdout",
     "output_type": "stream",
     "text": [
      "The time taken by onnx_runtime is : 5.105276107788086\n",
      "The time taken by torch runtime is : 7.234872341156006\n"
     ]
    }
   ],
   "source": [
    "print(f\"The time taken by onnx_runtime is : {elapsed_time_onnx}\")\n",
    "print(f\"The time taken by torch runtime is : {elapsed_time_torch}\")"
   ]
  },
  {
   "cell_type": "code",
   "execution_count": null,
   "id": "9ae296fe-c6f5-4fde-bc20-433f7e7b0499",
   "metadata": {},
   "outputs": [],
   "source": []
  },
  {
   "cell_type": "code",
   "execution_count": null,
   "id": "2879ff57-a2c6-4030-b94c-40a747374e2a",
   "metadata": {},
   "outputs": [],
   "source": []
  },
  {
   "cell_type": "code",
   "execution_count": null,
   "id": "35b67bd5-442e-4203-8c51-6e912468dc18",
   "metadata": {},
   "outputs": [],
   "source": []
  }
 ],
 "metadata": {
  "kernelspec": {
   "display_name": "Python 3 (ipykernel)",
   "language": "python",
   "name": "python3"
  },
  "language_info": {
   "codemirror_mode": {
    "name": "ipython",
    "version": 3
   },
   "file_extension": ".py",
   "mimetype": "text/x-python",
   "name": "python",
   "nbconvert_exporter": "python",
   "pygments_lexer": "ipython3",
   "version": "3.10.0"
  }
 },
 "nbformat": 4,
 "nbformat_minor": 5
}
